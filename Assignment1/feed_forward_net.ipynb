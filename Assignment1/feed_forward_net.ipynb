{
 "cells": [
  {
   "attachments": {},
   "cell_type": "markdown",
   "id": "04b3d24d",
   "metadata": {},
   "source": [
    "# A1.2 Feed forward network\n",
    "\n",
    "In this part of the assignment we will develop our own building blocks for constructing a feed forward network.\n",
    "We will follow a modular approach so that we can use these building blocks in feed forward architecture of our choice.\n",
    "\n",
    "We will follow the logic of computation graphs where the layers and the loss have the characteristics of the compute nodes in terms of locality and ability to communicate with upstream and downstream blocks.\n",
    "\n",
    "Instead of defining the forward and backward steps as functions that need to pass around cached variables, we will implement the compute nodes as statefull objects - instantiations of python classes with forward and backward methods.\n",
    "\n",
    "We will then conscruct a 2 layer neural network and use our newly developed functionality to predict the target values and compute the parameter gradients.\n",
    "\n",
    "Work through the cells below and complete the tasks indicated by <span style=\"color:red\">**TODO**</span> here below and in the script `ann_code/layers.py` (replace `pass` with the appropriate code)."
   ]
  },
  {
   "cell_type": "code",
   "execution_count": 1,
   "id": "0d6f0ff4",
   "metadata": {},
   "outputs": [],
   "source": [
    "# necessary initialization\n",
    "%load_ext autoreload\n",
    "%autoreload 2\n",
    "\n",
    "import torch"
   ]
  },
  {
   "cell_type": "code",
   "execution_count": 3,
   "id": "979a3fff",
   "metadata": {},
   "outputs": [
    {
     "name": "stdout",
     "output_type": "stream",
     "text": [
      "Number of instances: 90, input dimensions: 3.\n"
     ]
    }
   ],
   "source": [
    "# load data\n",
    "from helpers import load_data\n",
    "in_data, labels = load_data(filename='./ann_data/toy_data.csv') # correct filename if necessary\n",
    "\n",
    "# get data dimensions\n",
    "num_inst, num_dim = in_data.shape\n",
    "print(f\"Number of instances: {num_inst}, input dimensions: {num_dim}.\")"
   ]
  },
  {
   "attachments": {},
   "cell_type": "markdown",
   "id": "441dd5a4",
   "metadata": {},
   "source": [
    "## 1) Forward pass\n",
    "\n",
    "We first work on the forward pass functionality of our layer objects."
   ]
  },
  {
   "attachments": {},
   "cell_type": "markdown",
   "id": "798266a9",
   "metadata": {},
   "source": [
    "### Linear layer\n",
    "\n",
    "We start by defyining the linear layer.\n",
    "Complete the `__init__` and `forward` methods of the `Linear` class in `ann_code/layers.py`.\n",
    "\n",
    "The class object instances shall be initialized with the linear function parameters (weight and bias) as the instance attributes.\n",
    "The other local information (inputs, outputs and their gradients) shall be also defined as the instance object attributes and will be populated by the `forward` and `backward` methods."
   ]
  },
  {
   "cell_type": "code",
   "execution_count": 4,
   "id": "e65e8e95",
   "metadata": {},
   "outputs": [
    {
     "name": "stdout",
     "output_type": "stream",
     "text": [
      "Your outputs tensor([[ 1.0220,  1.0258,  1.0295,  1.0329,  1.0361,  1.0391,  1.0418,  1.0441,\n",
      "          1.0462,  1.0479],\n",
      "        [-0.4527, -0.5533, -0.6615, -0.7779, -0.9030, -1.0374, -1.1819, -1.3370,\n",
      "         -1.5037, -1.6827]])\n"
     ]
    }
   ],
   "source": [
    "# after implementing Linear class, check it here\n",
    "from ann_code.layers import Linear\n",
    "\n",
    "# initiate w and b buffers\n",
    "# we use these for initiating the model parameters instead of the usual random init\n",
    "# this is to make sure that yours and mine results match\n",
    "w_buffer = torch.logspace(start=0.1, end=10, steps=1000)\n",
    "b_buffer = torch.logspace(start=0.1, end=10, steps=1000, base=2)\n",
    "\n",
    "# linear layer dimensions\n",
    "in_features = num_dim\n",
    "out_features = 10\n",
    "\n",
    "################################################################################\n",
    "### START OF YOUR CODE                                                         #\n",
    "### TODO: initiate a linear layer instance                                     #\n",
    "################################################################################\n",
    "# Initialize linear layer parameters from the buffers\n",
    "# First extract from the buffers the necessary number of elements \n",
    "# followed by view() to get the correct shape\n",
    "# e.g. for 2x3 w matrix with 6 elements in total do \n",
    "# w = w_buffer[:6].view(2, 3)\n",
    "w = w_buffer[:out_features * in_features].view(out_features, in_features)\n",
    "b = b_buffer[:out_features].view(1, -1)\n",
    "\n",
    "# Instantiate the Linear layer object\n",
    "linear_layer = Linear(w, b)\n",
    "################################################################################\n",
    "### END OF YOUR CODE                                                           ###\n",
    "################################################################################\n",
    "\n",
    "# forward pass in_data through the layer\n",
    "outputs = linear_layer.forward(in_data)\n",
    "\n",
    "# check outputs for the first two data instances\n",
    "print(f'Your outputs {outputs[:2,:]}')\n"
   ]
  },
  {
   "attachments": {},
   "cell_type": "markdown",
   "id": "959d9d18",
   "metadata": {},
   "source": [
    "Expected outputs\n",
    "\n",
    "`tensor([[ 1.0220,  1.0258,  1.0295,  1.0329,  1.0361,  1.0391,  1.0418,  1.0441,\n",
    "          1.0462,  1.0479],\n",
    "        [-0.4527, -0.5533, -0.6615, -0.7779, -0.9030, -1.0374, -1.1819, -1.3370,\n",
    "         -1.5037, -1.6827]])`"
   ]
  },
  {
   "attachments": {},
   "cell_type": "markdown",
   "id": "3bd1e04c",
   "metadata": {},
   "source": [
    "### ReLU nonlinearity\n",
    "\n",
    "We next defined the class for the Rectified Linear Unit which is an element-wise operation defined as $ReLU(x) = max(0, x).$\n",
    "\n",
    "Complete the `forward` methods of the `Relu` class in `ann_code/layers.py`. Note that in this case, there are no parameters that should be included in the object instances as initial states."
   ]
  },
  {
   "cell_type": "code",
   "execution_count": 5,
   "id": "4c8941aa",
   "metadata": {},
   "outputs": [
    {
     "name": "stdout",
     "output_type": "stream",
     "text": [
      "Your outputs tensor([[0.8872, 0.0000, 0.3707],\n",
      "        [0.0000, 1.3094, 0.0000]])\n"
     ]
    }
   ],
   "source": [
    "# After implementing Relu class, check it here\n",
    "from ann_code.layers import Relu\n",
    "\n",
    "# relu instance\n",
    "relu = Relu()\n",
    "\n",
    "# forward pass in_data through the layer\n",
    "outputs = relu.forward(in_data)\n",
    "\n",
    "# check outputs for the first two data instances\n",
    "print(f'Your outputs {outputs[:2,:]}')"
   ]
  },
  {
   "attachments": {},
   "cell_type": "markdown",
   "id": "278bafde",
   "metadata": {},
   "source": [
    "Expected outputs\n",
    "\n",
    "`tensor([[0.8872, 0.0000, 0.3707],\n",
    "        [0.0000, 1.3094, 0.0000]])`"
   ]
  },
  {
   "attachments": {},
   "cell_type": "markdown",
   "id": "941c79b9",
   "metadata": {},
   "source": [
    "### Define network with on hidden layer\n",
    "\n",
    "We use the linear and relu classes to create a network with the following architecture. \n",
    "We combine the layers through the `Model` class that I defined for you in the `ann_code/layers.py`\n",
    "\n",
    "We will add the MSE less in a later step, now do just the forward pass through the layers to obtain the predicitons.\n",
    "\n",
    "<center><img src=\"net_diagram.png\">\n",
    "\n"
   ]
  },
  {
   "cell_type": "code",
   "execution_count": 6,
   "id": "8ad5a04d",
   "metadata": {},
   "outputs": [
    {
     "name": "stdout",
     "output_type": "stream",
     "text": [
      "Your outputs tensor([[8.1458],\n",
      "        [1.1016]])\n"
     ]
    }
   ],
   "source": [
    "# work with Model class to do the forward pass through the network\n",
    "from ann_code.layers import Model, Linear, Relu\n",
    "\n",
    "################################################################################\n",
    "### START OF YOUR CODE                                                         #\n",
    "################################################################################\n",
    "\n",
    "# Initialize parameters for all layers from the w_buffer and b_buffer\n",
    "# Extract the necessary number of elements from the buffers and reshape them as required\n",
    "# Define all necessary layers as instances of the Linear and Relu classes\n",
    "\n",
    "# For example, if you have 3 input features, 4 hidden units, and 1 output unit:\n",
    "# Define the first linear layer with input features and hidden units\n",
    "\n",
    "out_features= 1\n",
    "hidden1_features = 4\n",
    "\n",
    "w1= w_buffer[:hidden1_features * num_dim].view(hidden1_features,num_dim)\n",
    "w2 = w_buffer[hidden1_features* num_dim: hidden1_features*num_dim + out_features*hidden1_features].view(out_features, hidden1_features)\n",
    "b1= b_buffer[:hidden1_features].view(1, hidden1_features)\n",
    "b2 = b_buffer[hidden1_features:hidden1_features+out_features].view(1, out_features)\n",
    "\n",
    "################################################################################\n",
    "### END OF YOUR CODE                                                           #\n",
    "################################################################################\n",
    "lin1= Linear(w1,b1)\n",
    "lin2= Linear(w2,b2)\n",
    "relu1 = Relu()\n",
    "\n",
    "layers = [lin1,relu1, lin2]\n",
    "\n",
    "# forward pass in_data through all layers to get predictions\n",
    "model = Model(layers)\n",
    "ypred = model.forward(in_data)\n",
    "\n",
    "\n",
    "# check outputs for the first two data instances\n",
    "print(f'Your outputs {ypred[:2,:]}')"
   ]
  },
  {
   "attachments": {},
   "cell_type": "markdown",
   "id": "c87699ab",
   "metadata": {},
   "source": [
    "Expected output\n",
    "\n",
    "`tensor([[8.1458],\n",
    "        [1.1016]])`"
   ]
  },
  {
   "attachments": {},
   "cell_type": "markdown",
   "id": "a63f299c",
   "metadata": {},
   "source": [
    "## 3) MSE loss\n",
    "\n",
    "We use the MSE loss functions defined in `ann_code/linear_regression.py` to get the mse loss for our predictions and the corresponding gradients."
   ]
  },
  {
   "cell_type": "code",
   "execution_count": 7,
   "id": "5f704f6b",
   "metadata": {},
   "outputs": [],
   "source": [
    "# use mse functions defined for linear regression to get the MSE and gradient with respect to predictions\n",
    "from ann_code.linear_regression import mse_forward, mse_backward\n",
    "\n",
    "loss, mse_cache = mse_forward(ypred, labels)\n",
    "ypredgrad, _ = mse_backward(mse_cache)"
   ]
  },
  {
   "attachments": {},
   "cell_type": "markdown",
   "id": "f4c3bcb0",
   "metadata": {},
   "source": [
    "## 3) Backward propagation\n",
    "\n",
    "Finally, you need to implement the `backward` methods in for the `Linear` and `Relu` classes.\n",
    "\n",
    "Remember that you need to use the chain rule and combine the local and the upstream gradient to obtain the global gradients. Do not forget that ReLu is an element-wise operation."
   ]
  },
  {
   "cell_type": "code",
   "execution_count": 8,
   "id": "97b4ced4",
   "metadata": {},
   "outputs": [
    {
     "name": "stdout",
     "output_type": "stream",
     "text": [
      "Global gradient of loss with respect to weight parameters tensor([[106.2968, 108.7577, 111.4530, 114.4143]])\n",
      "Global gradient of loss with respect to bias parameters tensor([[90.]])\n",
      "Global gradient of loss with respect to linear layer inputs tensor([[1.6555, 1.6937, 1.7328, 1.7728],\n",
      "        [1.6555, 1.6937, 1.7328, 1.7728]])\n"
     ]
    }
   ],
   "source": [
    "# After implementing the backward passes of Linear class test it here\n",
    "\n",
    "# do the backward pass of last linear layer\n",
    "\n",
    "lin2.backward(torch.ones(num_inst, 1))\n",
    "\n",
    "# check global gradients\n",
    "print(f'Global gradient of loss with respect to weight parameters {lin2.W.g}')\n",
    "print(f'Global gradient of loss with respect to bias parameters {lin2.b.g}')\n",
    "print(f'Global gradient of loss with respect to linear layer inputs {lin2.ins.g[:2,:]}')"
   ]
  },
  {
   "attachments": {},
   "cell_type": "markdown",
   "id": "b853b139",
   "metadata": {},
   "source": [
    "Expected results\n",
    "\n",
    "`Global gradient of loss with respect to weight parameters tensor([[106.2968, 108.7577, 111.4530, 114.4143]])`\n",
    "\n",
    "`Global gradient of loss with respect to bias parameters tensor([[90.]])`\n",
    "\n",
    "`Global gradient of loss with respect to linear layer inputs tensor([[1.6555, 1.6937, 1.7328, 1.7728],\n",
    "        [1.6555, 1.6937, 1.7328, 1.7728]])`"
   ]
  },
  {
   "cell_type": "code",
   "execution_count": 9,
   "id": "1a043849",
   "metadata": {},
   "outputs": [
    {
     "name": "stdout",
     "output_type": "stream",
     "text": [
      "Global gradient of loss with respect to relu inputs tensor([[0., 1., 2., 3.],\n",
      "        [0., 0., 0., 0.]])\n"
     ]
    }
   ],
   "source": [
    "# After implementing the backward passes of relu class test it here\n",
    "\n",
    "# do the backward pass of relu\n",
    "relu1.backward(torch.arange(num_inst*4).view(num_inst, 4))\n",
    "\n",
    "# check global gradients\n",
    "print(f'Global gradient of loss with respect to relu inputs {relu1.ins.g[:2,:]}')"
   ]
  },
  {
   "attachments": {},
   "cell_type": "markdown",
   "id": "f9b0ffd7",
   "metadata": {},
   "source": [
    "Expected results\n",
    "\n",
    "`Global gradient of loss with respect to relu inputs tensor([[0., 1., 2., 3.],\n",
    "        [0., 0., 0., 0.]])`"
   ]
  },
  {
   "attachments": {},
   "cell_type": "markdown",
   "id": "17daa25f",
   "metadata": {},
   "source": [
    "## Complete backward pass\n",
    "\n",
    "We shall use the Model class to get the gradients of all the layers and their parameters with respect to the loss."
   ]
  },
  {
   "cell_type": "code",
   "execution_count": 10,
   "id": "f8234339",
   "metadata": {},
   "outputs": [
    {
     "name": "stdout",
     "output_type": "stream",
     "text": [
      "Your dLoss/dW1: tensor([[10.4693,  6.8379,  4.1449],\n",
      "        [10.5790,  7.0695,  4.3389],\n",
      "        [10.8324,  7.2315,  4.4382],\n",
      "        [11.0693,  7.3818,  4.5600]])\n",
      "Your dLoss/db1: tensor([[31.2568, 31.9208, 32.6484, 33.4148]])\n",
      "Your dLoss/dins: tensor([[1.6884, 1.7274, 1.7673],\n",
      "        [0.0000, 0.0000, 0.0000]])\n",
      "Correct dLoss/dW1: tensor([[10.4693,  6.8379,  4.1449],\n",
      "        [10.5790,  7.0695,  4.3389],\n",
      "        [10.8324,  7.2315,  4.4382],\n",
      "        [11.0693,  7.3818,  4.5600]])\n",
      "Correct dLoss/db1: tensor([[31.2568, 31.9208, 32.6484, 33.4148]])\n",
      "Correct dLoss/dins: tensor([[1.6884, 1.7274, 1.7673],\n",
      "        [0.0000, 0.0000, 0.0000]])\n"
     ]
    }
   ],
   "source": [
    "from helpers import grad_model\n",
    "\n",
    "# do the backward pass through the model\n",
    "model.backward(ypredgrad)\n",
    "\n",
    "# print out your gradients of loss with respect to the parameters of the 1st model layer\n",
    "print(f'Your dLoss/dW1: {model.layers[0].W.g}')\n",
    "print(f'Your dLoss/db1: {model.layers[0].b.g}')\n",
    "print(f'Your dLoss/dins: {model.layers[0].ins.g[:2, :]}')\n",
    "\n",
    "# print out correct gradients of loss with respect to the parameters of the 1st model layer\n",
    "# these should be the same as your gradients from above\n",
    "model_check = grad_model(model, in_data, labels)\n",
    "print(f'Correct dLoss/dW1: {model_check.layers[0].W.grad}')\n",
    "print(f'Correct dLoss/db1: {model_check.layers[0].b.grad}')\n",
    "print(f'Correct dLoss/dins: {model_check.layers[0].ins.grad[:2, :]}')"
   ]
  },
  {
   "attachments": {},
   "cell_type": "markdown",
   "id": "cf57647f",
   "metadata": {},
   "source": [
    "## 4) Multilayer feed forward network\n",
    "\n",
    "Finally, use your `Linear` and `Relu` classes and combine them with the `Model` class to construct a more complicated network.\n",
    "\n",
    "Define a network with the following architecture:\n",
    "Linear: input_dim = 3, output_dim = 5 -> Relu ->\n",
    "Linear: input_dim = 5, output_dim = 10 -> Relu ->\n",
    "Linear: input_dim = 10, output_dim = 4 -> Relu ->\n",
    "Linear: input_dim = 4, output_dim = 1\n",
    "\n",
    "Initialize all the linear layers with parameters W and b sampled randomly from standardat normal distribution.\n",
    "\n",
    "Combine the layers using the `Model` class and get the predictions (`forward` method).\n",
    "\n",
    "Use the MSE forward and backward functions to get the loss and the gradient with respect to the predictions.\n",
    "\n",
    "Use the `backward` method of `Model` to get all the gradients."
   ]
  },
  {
   "cell_type": "code",
   "execution_count": 11,
   "id": "78711afc",
   "metadata": {},
   "outputs": [
    {
     "data": {
      "text/plain": [
       "tensor([[9.7827e+09, 1.1063e+10, 1.2343e+10],\n",
       "        [0.0000e+00, 0.0000e+00, 0.0000e+00],\n",
       "        [1.3440e+10, 1.4921e+10, 1.6402e+10],\n",
       "        [0.0000e+00, 0.0000e+00, 0.0000e+00],\n",
       "        [2.5364e+10, 2.9435e+10, 3.3505e+10],\n",
       "        [1.8863e+09, 2.2922e+09, 2.6981e+09],\n",
       "        [0.0000e+00, 0.0000e+00, 0.0000e+00],\n",
       "        [2.2337e+10, 2.5260e+10, 2.8183e+10],\n",
       "        [2.5364e+10, 2.9435e+10, 3.3505e+10],\n",
       "        [0.0000e+00, 2.1428e+07, 4.2856e+07],\n",
       "        [5.1239e+10, 5.9462e+10, 6.7685e+10],\n",
       "        [0.0000e+00, 0.0000e+00, 0.0000e+00],\n",
       "        [3.8424e+10, 4.4590e+10, 5.0757e+10],\n",
       "        [1.3137e+10, 1.5245e+10, 1.7353e+10],\n",
       "        [1.1856e+09, 1.5705e+09, 1.9555e+09],\n",
       "        [0.0000e+00, 0.0000e+00, 0.0000e+00],\n",
       "        [0.0000e+00, 2.2611e+07, 4.5223e+07],\n",
       "        [5.9529e+10, 6.9083e+10, 7.8637e+10],\n",
       "        [2.5349e+10, 2.8666e+10, 3.1983e+10],\n",
       "        [2.3095e+10, 2.6118e+10, 2.9140e+10],\n",
       "        [0.0000e+00, 0.0000e+00, 0.0000e+00],\n",
       "        [0.0000e+00, 0.0000e+00, 0.0000e+00],\n",
       "        [0.0000e+00, 1.8050e+07, 3.6100e+07],\n",
       "        [0.0000e+00, 0.0000e+00, 0.0000e+00],\n",
       "        [5.1797e+10, 6.0110e+10, 6.8423e+10],\n",
       "        [3.7299e+10, 4.2180e+10, 4.7061e+10],\n",
       "        [0.0000e+00, 2.8411e+07, 5.6822e+07],\n",
       "        [0.0000e+00, 0.0000e+00, 0.0000e+00],\n",
       "        [0.0000e+00, 5.4194e+07, 1.0839e+08],\n",
       "        [4.2867e+10, 4.9746e+10, 5.6626e+10],\n",
       "        [1.0840e+11, 1.2580e+11, 1.4320e+11],\n",
       "        [1.3048e+10, 1.4486e+10, 1.5924e+10],\n",
       "        [0.0000e+00, 0.0000e+00, 0.0000e+00],\n",
       "        [9.7622e+09, 1.1329e+10, 1.2896e+10],\n",
       "        [3.0986e+08, 5.1230e+08, 7.1475e+08],\n",
       "        [5.4000e+10, 6.2667e+10, 7.1333e+10],\n",
       "        [1.1509e+10, 1.3016e+10, 1.4522e+10],\n",
       "        [1.3440e+10, 1.4921e+10, 1.6402e+10],\n",
       "        [7.4658e+10, 8.6639e+10, 9.8621e+10],\n",
       "        [0.0000e+00, 0.0000e+00, 0.0000e+00],\n",
       "        [0.0000e+00, 0.0000e+00, 0.0000e+00],\n",
       "        [2.5738e+08, 4.2554e+08, 5.9369e+08],\n",
       "        [0.0000e+00, 0.0000e+00, 0.0000e+00],\n",
       "        [3.7282e+10, 4.3265e+10, 4.9248e+10],\n",
       "        [0.0000e+00, 2.8408e+07, 5.6817e+07],\n",
       "        [2.0832e+10, 2.3558e+10, 2.6284e+10],\n",
       "        [3.7281e+10, 4.2160e+10, 4.7039e+10],\n",
       "        [8.5910e+10, 9.9698e+10, 1.1349e+11],\n",
       "        [2.4563e+10, 2.8505e+10, 3.2447e+10],\n",
       "        [0.0000e+00, 1.8588e+07, 3.7177e+07],\n",
       "        [6.5724e+10, 7.6272e+10, 8.6820e+10],\n",
       "        [1.0315e+11, 1.1970e+11, 1.3626e+11],\n",
       "        [0.0000e+00, 6.4553e+07, 1.2911e+08],\n",
       "        [6.9979e+09, 7.7691e+09, 8.5403e+09],\n",
       "        [0.0000e+00, 0.0000e+00, 0.0000e+00],\n",
       "        [3.3001e+10, 3.8297e+10, 4.3594e+10],\n",
       "        [0.0000e+00, 0.0000e+00, 0.0000e+00],\n",
       "        [1.1035e+10, 1.2251e+10, 1.3467e+10],\n",
       "        [8.5598e+09, 9.6799e+09, 1.0800e+10],\n",
       "        [1.0735e+09, 1.4220e+09, 1.7706e+09],\n",
       "        [4.6321e+10, 5.3755e+10, 6.1189e+10],\n",
       "        [9.0028e+10, 1.0448e+11, 1.1893e+11],\n",
       "        [2.9510e+10, 3.3372e+10, 3.7233e+10],\n",
       "        [6.5407e+10, 7.3967e+10, 8.2526e+10],\n",
       "        [7.0442e+10, 8.1747e+10, 9.3052e+10],\n",
       "        [1.7090e+10, 1.9327e+10, 2.1563e+10],\n",
       "        [0.0000e+00, 3.6968e+07, 7.3936e+07],\n",
       "        [0.0000e+00, 0.0000e+00, 0.0000e+00],\n",
       "        [8.2323e+10, 9.5536e+10, 1.0875e+11],\n",
       "        [1.1105e+10, 1.2558e+10, 1.4011e+10],\n",
       "        [3.7160e+10, 4.3124e+10, 4.9088e+10],\n",
       "        [6.3903e+10, 7.4159e+10, 8.4415e+10],\n",
       "        [3.2967e+10, 3.7281e+10, 4.1595e+10],\n",
       "        [6.9484e+10, 8.0636e+10, 9.1787e+10],\n",
       "        [9.0876e+10, 1.0546e+11, 1.2005e+11],\n",
       "        [2.1284e+10, 2.4070e+10, 2.6855e+10],\n",
       "        [2.0523e+10, 2.3817e+10, 2.7111e+10],\n",
       "        [2.3706e+10, 2.6808e+10, 2.9910e+10],\n",
       "        [4.0145e+10, 4.6588e+10, 5.3031e+10],\n",
       "        [4.1925e+10, 4.8654e+10, 5.5382e+10],\n",
       "        [0.0000e+00, 0.0000e+00, 0.0000e+00],\n",
       "        [1.1156e+10, 1.2616e+10, 1.4076e+10],\n",
       "        [4.0390e+10, 4.6872e+10, 5.3354e+10],\n",
       "        [0.0000e+00, 0.0000e+00, 0.0000e+00],\n",
       "        [3.6582e+09, 4.0613e+09, 4.4645e+09],\n",
       "        [5.2634e+10, 6.1081e+10, 6.9528e+10],\n",
       "        [3.0451e+10, 3.4436e+10, 3.8420e+10],\n",
       "        [1.6014e+10, 1.8585e+10, 2.1155e+10],\n",
       "        [0.0000e+00, 0.0000e+00, 0.0000e+00],\n",
       "        [2.5725e+10, 2.9092e+10, 3.2458e+10]], grad_fn=<MmBackward0>)"
      ]
     },
     "execution_count": 11,
     "metadata": {},
     "output_type": "execute_result"
    }
   ],
   "source": [
    "################################################################################\n",
    "### START OF YOUR CODE                                                         #\n",
    "### TODO: define mffn as instance of Model class                               #\n",
    "################################################################################\n",
    "\n",
    "# instantiate all layers\n",
    "w1 = torch.arange(5*3).view(5, 3).float()\n",
    "b1 = torch.arange(5).view(1, 5).float()\n",
    "w2 = torch.arange(10*5).view(10, 5).float()\n",
    "b2 = torch.arange(10).view(1, 10).float()\n",
    "w3 = torch.arange(4*10).view(4, 10).float()\n",
    "b3 = torch.arange(4).view(1, 4).float()\n",
    "w4 = torch.arange(1*4).view(1, 4).float()\n",
    "b4 = torch.arange(1).view(1, 1).float()\n",
    "\n",
    "# define model using Model class\n",
    "mffn = Model(layers)\n",
    "\n",
    "# forward, mse, backward\n",
    "layer1 = Linear(w1, b1)\n",
    "activation1 = Relu()\n",
    "layer2 = Linear(w2, b2)\n",
    "activation2 = Relu()\n",
    "layer3 = Linear(w3, b3)\n",
    "activation3 = Relu()\n",
    "layer4 = Linear(w4, b4)\n",
    "layers = [layer1, activation1, layer2,\n",
    "          activation2, layer3, activation3, layer4]\n",
    "\n",
    "# define model using Model class\n",
    "mffn = Model(layers)\n",
    "ypred1 = mffn.forward(in_data)\n",
    "loss1, mse_cache1 = mse_forward(ypred1, labels)\n",
    "ypredgrad1, _ = mse_backward(mse_cache1)\n",
    "mffn.backward(ypredgrad1)\n",
    "################################################################################\n",
    "### END OF YOUR CODE                                                           #\n",
    "################################################################################"
   ]
  },
  {
   "attachments": {},
   "cell_type": "markdown",
   "id": "61e16779",
   "metadata": {},
   "source": [
    "#### Check model architecture"
   ]
  },
  {
   "cell_type": "code",
   "execution_count": 12,
   "id": "fe77c5cd",
   "metadata": {},
   "outputs": [
    {
     "name": "stdout",
     "output_type": "stream",
     "text": [
      "Your NN architecture definitions seems CORRECT.\n"
     ]
    }
   ],
   "source": [
    "# check architecture\n",
    "from helpers import check_architecture\n",
    "\n",
    "check_architecture(mffn)"
   ]
  },
  {
   "attachments": {},
   "cell_type": "markdown",
   "id": "a88eecbb",
   "metadata": {},
   "source": [
    "#### Check gradient computation"
   ]
  },
  {
   "cell_type": "code",
   "execution_count": 13,
   "id": "e550b660",
   "metadata": {},
   "outputs": [
    {
     "name": "stdout",
     "output_type": "stream",
     "text": [
      "Your dLoss/dW1: tensor([[1.1477e+08, 1.6356e+10, 3.2376e+10],\n",
      "        [1.5370e+10, 1.7434e+10, 2.6436e+10],\n",
      "        [1.8302e+10, 1.9640e+10, 2.4326e+10],\n",
      "        [1.9257e+10, 2.0735e+10, 2.4839e+10],\n",
      "        [2.0092e+10, 2.1464e+10, 2.5725e+10]], grad_fn=<MmBackward0>)\n",
      "Your dLoss/db1: tensor([[5.0174e+10, 6.6295e+10, 7.0931e+10, 7.3397e+10, 7.6006e+10]],\n",
      "       grad_fn=<SumBackward1>)\n",
      "Your dLoss/dins: tensor([[9.7827e+09, 1.1063e+10, 1.2343e+10],\n",
      "        [0.0000e+00, 0.0000e+00, 0.0000e+00]], grad_fn=<SliceBackward0>)\n",
      "Correct dLoss/dW1: tensor([[1.1477e+08, 1.6356e+10, 3.2376e+10],\n",
      "        [1.5370e+10, 1.7434e+10, 2.6436e+10],\n",
      "        [1.8302e+10, 1.9640e+10, 2.4326e+10],\n",
      "        [1.9257e+10, 2.0735e+10, 2.4839e+10],\n",
      "        [2.0092e+10, 2.1464e+10, 2.5725e+10]])\n",
      "Correct dLoss/db1: tensor([[5.0174e+10, 6.6295e+10, 7.0931e+10, 7.3397e+10, 7.6006e+10]])\n",
      "Correct dLoss/dins: tensor([[9.7827e+09, 1.1063e+10, 1.2343e+10],\n",
      "        [0.0000e+00, 0.0000e+00, 0.0000e+00]])\n"
     ]
    }
   ],
   "source": [
    "# print out your gradients of loss with respect to the parameters of the 1st model layer\n",
    "print(f'Your dLoss/dW1: {mffn.layers[0].W.g}')\n",
    "print(f'Your dLoss/db1: {mffn.layers[0].b.g}')\n",
    "print(f'Your dLoss/dins: {mffn.layers[0].ins.g[:2, :]}') \n",
    "    \n",
    "# print out correct gradients of loss with respect to the parameters of the 1st model layer\n",
    "# these should be the same as your gradients from above\n",
    "model_check = grad_model(mffn, in_data, labels)\n",
    "print(f'Correct dLoss/dW1: {model_check.layers[0].W.grad}')\n",
    "print(f'Correct dLoss/db1: {model_check.layers[0].b.grad}')\n",
    "print(f'Correct dLoss/dins: {model_check.layers[0].ins.grad[:2, :]}')"
   ]
  },
  {
   "cell_type": "code",
   "execution_count": null,
   "id": "36cf2ac9",
   "metadata": {},
   "outputs": [],
   "source": []
  },
  {
   "cell_type": "code",
   "execution_count": null,
   "id": "3ab1de22",
   "metadata": {},
   "outputs": [],
   "source": []
  },
  {
   "cell_type": "code",
   "execution_count": null,
   "id": "b28f423d",
   "metadata": {},
   "outputs": [],
   "source": []
  }
 ],
 "metadata": {
  "kernelspec": {
   "display_name": "Python 3 (ipykernel)",
   "language": "python",
   "name": "python3"
  },
  "language_info": {
   "codemirror_mode": {
    "name": "ipython",
    "version": 3
   },
   "file_extension": ".py",
   "mimetype": "text/x-python",
   "name": "python",
   "nbconvert_exporter": "python",
   "pygments_lexer": "ipython3",
   "version": "3.11.7"
  }
 },
 "nbformat": 4,
 "nbformat_minor": 5
}
